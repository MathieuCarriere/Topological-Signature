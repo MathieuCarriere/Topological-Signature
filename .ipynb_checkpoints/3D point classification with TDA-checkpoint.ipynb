{
 "cells": [
  {
   "cell_type": "code",
   "execution_count": 2,
   "metadata": {},
   "outputs": [
    {
     "ename": "ImportError",
     "evalue": "No module named 'sklearn_tda'",
     "output_type": "error",
     "traceback": [
      "\u001b[0;31m---------------------------------------------------------------------------\u001b[0m",
      "\u001b[0;31mImportError\u001b[0m                               Traceback (most recent call last)",
      "\u001b[0;32m<ipython-input-2-b12aea9a80ca>\u001b[0m in \u001b[0;36m<module>\u001b[0;34m()\u001b[0m\n\u001b[1;32m      5\u001b[0m \u001b[0;34m\u001b[0m\u001b[0m\n\u001b[1;32m      6\u001b[0m \u001b[0;31m#import persUF      as pUF\u001b[0m\u001b[0;34m\u001b[0m\u001b[0;34m\u001b[0m\u001b[0m\n\u001b[0;32m----> 7\u001b[0;31m \u001b[0;32mimport\u001b[0m \u001b[0msklearn_tda\u001b[0m \u001b[0;32mas\u001b[0m \u001b[0mtda\u001b[0m\u001b[0;34m\u001b[0m\u001b[0m\n\u001b[0m\u001b[1;32m      8\u001b[0m \u001b[0;34m\u001b[0m\u001b[0m\n\u001b[1;32m      9\u001b[0m \u001b[0;32mfrom\u001b[0m \u001b[0msklearn\u001b[0m\u001b[0;34m.\u001b[0m\u001b[0mpreprocessing\u001b[0m            \u001b[0;32mimport\u001b[0m \u001b[0;34m*\u001b[0m\u001b[0;34m\u001b[0m\u001b[0m\n",
      "\u001b[0;31mImportError\u001b[0m: No module named 'sklearn_tda'"
     ]
    }
   ],
   "source": [
    "import h5py\n",
    "import pandas            as pd\n",
    "import numpy             as np\n",
    "import matplotlib.pyplot as plt\n",
    "\n",
    "#import persUF      as pUF\n",
    "import sklearn_tda as tda\n",
    "\n",
    "from sklearn.preprocessing            import *\n",
    "from sklearn.svm                      import *\n",
    "from sklearn.ensemble                 import *\n",
    "from sklearn.decomposition            import *\n",
    "from sklearn.linear_model             import *\n",
    "from sklearn.model_selection          import *\n",
    "from sklearn.pipeline                 import *\n",
    "from sklearn.manifold                 import *\n",
    "from sklearn.neighbors                import *\n",
    "from sklearn.metrics                  import *\n",
    "from sklearn.metrics.pairwise         import *\n",
    "from sklearn.feature_selection        import *\n",
    "from sklearn.kernel_ridge             import *"
   ]
  },
  {
   "cell_type": "code",
   "execution_count": null,
   "metadata": {},
   "outputs": [],
   "source": [
    "D = pUF.geodesic_diagrams_on_shape(b\"61.off\", [0,1])"
   ]
  },
  {
   "cell_type": "code",
   "execution_count": null,
   "metadata": {},
   "outputs": [],
   "source": [
    "plt.scatter(np.array(D[0][1])[:,1], np.array(D[0][1])[:,0])\n",
    "plt.axis([0.0,2.0,0.0,2.0])\n",
    "plt.show()"
   ]
  },
  {
   "cell_type": "code",
   "execution_count": null,
   "metadata": {},
   "outputs": [],
   "source": [
    "def diag_to_array(data):\n",
    "    dataset, num_diag = [], len(data[\"0\"].keys())\n",
    "    for dim in data.keys():\n",
    "        X = []\n",
    "        for diag in range(num_diag):\n",
    "            pers_diag = np.array(data[dim][str(diag)])\n",
    "            X.append(pers_diag)\n",
    "        dataset.append(X)\n",
    "    return dataset\n",
    "\n",
    "def diag_to_dict(D):\n",
    "    X = dict()\n",
    "    for f in D.keys():\n",
    "        df = diag_to_array(D[f])\n",
    "        for dim in range(len(df)):\n",
    "            X[str(dim) + \"_\" + f] = df[dim]\n",
    "    return X"
   ]
  },
  {
   "cell_type": "code",
   "execution_count": null,
   "metadata": {},
   "outputs": [],
   "source": [
    "train_lab  = pd.read_csv(\"train.csv\")\n",
    "train_diag = diag_to_dict(h5py.File(\"train_diag.hdf5\", \"r\"))"
   ]
  },
  {
   "cell_type": "code",
   "execution_count": null,
   "metadata": {},
   "outputs": [],
   "source": [
    "test_size                   = 0.2\n",
    "train_num_pts               = train_lab.shape[0]    \n",
    "perm                        = np.random.permutation(train_num_pts)\n",
    "limit                       = np.int(test_size * train_num_pts)\n",
    "test_sub, train_sub         = perm[:limit], perm[limit:]\n",
    "train_num_pts, test_num_pts = len(train_sub), len(test_sub)\n",
    "\n",
    "train_full_labels           = train_lab[\"part\"]\n",
    "le                          = LabelEncoder()\n",
    "train_labels                = np.array(le.fit_transform(train_full_labels[train_sub]))\n",
    "test_labels                 = np.array(le.transform(train_full_labels[test_sub]))\n",
    "\n",
    "train_full_diag             = train_diag[\"1_geodesic\"]\n",
    "train_diag                  = [train_full_diag[i] for i in train_sub]\n",
    "test_diag                   = [train_full_diag[i] for i in test_sub]\n",
    " \n",
    "print(train_num_pts, test_num_pts)"
   ]
  },
  {
   "cell_type": "code",
   "execution_count": null,
   "metadata": {},
   "outputs": [],
   "source": [
    "pipe = Pipeline([(\"Separator\",     tda.FiniteSelector(limit=np.inf)),\n",
    "                 (\"Rotator\",       tda.DiagramPreprocessor(scaler=tda.BirthPersistenceTransform())),\n",
    "                 (\"TDA\",           tda.PersistenceImage()),\n",
    "                 (\"Estimator\",     SVC())\n",
    "                 ])\n",
    "\n",
    "param =    [{\"Rotator__use\":            [True],\n",
    "             \"TDA\":                     [tda.PersistenceImage()], \n",
    "             \"TDA__im_resolution\":      [ [20,20] ],\n",
    "             \"TDA__kernel\":             [ gauss(s) for s in [0.1, 1.0] ],\n",
    "             \"Estimator\":               [SVC()],\n",
    "             \"Estimator__C\":            [1,10,100],\n",
    "             \"Estimator__gamma\":        [0.001,0.0001]},\n",
    "            \n",
    "            {\"Rotator__use\":            [False],\n",
    "             \"TDA\":                     [tda.Landscape()], \n",
    "             \"TDA__resolution\":         [100,1000],\n",
    "             \"Estimator\":               [SVC()],\n",
    "             \"Estimator__C\":            [1,10,100],\n",
    "             \"Estimator__gamma\":        [0.001,0.0001]},\n",
    "           \n",
    "            {\"Rotator__use\":            [False],\n",
    "             \"TDA\":                     [tda.SlicedWasserstein()], \n",
    "             \"TDA__gaussian_bandwidth\": [0.01, 0.1, 1.0, 10.0],\n",
    "             \"Estimator\":               [SVC(kernel=\"precomputed\")],\n",
    "             \"Estimator__C\":            [1,10,100]}]\n",
    "\n",
    "model = GridSearchCV(pipe, param)"
   ]
  },
  {
   "cell_type": "code",
   "execution_count": null,
   "metadata": {},
   "outputs": [],
   "source": [
    "model.fit(train_diag, train_labels)\n",
    "print(\"Train accuracy = \" + str(model.score(train_diag, train_labels)))\n",
    "print(\"Test accuracy  = \" + str(model.score(test_diag,  test_labels)))"
   ]
  },
  {
   "cell_type": "code",
   "execution_count": null,
   "metadata": {},
   "outputs": [],
   "source": []
  }
 ],
 "metadata": {
  "kernelspec": {
   "display_name": "Python 2",
   "language": "python",
   "name": "python2"
  },
  "language_info": {
   "codemirror_mode": {
    "name": "ipython",
    "version": 3
   },
   "file_extension": ".py",
   "mimetype": "text/x-python",
   "name": "python",
   "nbconvert_exporter": "python",
   "pygments_lexer": "ipython3",
   "version": "3.5.2"
  }
 },
 "nbformat": 4,
 "nbformat_minor": 2
}
